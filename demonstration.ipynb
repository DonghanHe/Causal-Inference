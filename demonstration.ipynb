{
 "cells": [
  {
   "cell_type": "code",
   "execution_count": 1,
   "metadata": {
    "collapsed": true
   },
   "outputs": [],
   "source": [
    "%matplotlib inline\n",
    "import numpy as np\n",
    "import matplotlib.pyplot as plt\n",
    "import scipy.stats as spst\n",
    "import pandas as pd"
   ]
  },
  {
   "cell_type": "code",
   "execution_count": 3,
   "metadata": {},
   "outputs": [],
   "source": [
    "N_patients = 2000\n",
    "N_vars = 100\n",
    "Confounders = spst.norm.rvs(size=(N_vars,N_patients))\n",
    "Sigma = spst.uniform.rvs(1,5,size=(N_vars,N_vars))\n",
    "low_tri_Sigma = np.tril(Sigma,k=0)\n",
    "Cov = low_tri_Sigma.T+low_tri_Sigma\n",
    "\n",
    "for i in range(N_vars):\n",
    "    Cov[i,i] /=2\n",
    "Z = Cov@Confounders"
   ]
  },
  {
   "cell_type": "code",
   "execution_count": 30,
   "metadata": {},
   "outputs": [
    {
     "name": "stderr",
     "output_type": "stream",
     "text": [
      "/Users/donghanhe/anaconda3/lib/python3.5/site-packages/ipykernel/__main__.py:1: RuntimeWarning: overflow encountered in exp\n  if __name__ == '__main__':\n"
     ]
    }
   ],
   "source": [
    "X = spst.bernoulli.rvs(1/(1+np.exp(-np.sum(Z,axis = 0))),size=N_patients)\n",
    "beta = 10\n",
    "eps = 0.5\n",
    "\n",
    "Y0 = X* beta + np.sum(Z[50:75,:]*Z[75:,:],axis = 0)+0.5*spst.norm.rvs(size=N_patients)\n",
    "Y1 = Y0 + np.sum(Z[25:50,:]*Z[:25,:],axis = 0)\n",
    "\n",
    "Y = (X==0)*Y0+(X==1)*Y1"
   ]
  },
  {
   "cell_type": "code",
   "execution_count": 28,
   "metadata": {},
   "outputs": [
    {
     "data": {
      "text/plain": [
       "2485.776013945906"
      ]
     },
     "execution_count": 28,
     "metadata": {},
     "output_type": "execute_result"
    }
   ],
   "source": [
    "np.mean(Y[X==1])-np.mean(Y[X==0])"
   ]
  },
  {
   "cell_type": "code",
   "execution_count": null,
   "metadata": {},
   "outputs": [],
   "source": []
  }
 ],
 "metadata": {
  "kernelspec": {
   "display_name": "Python 2",
   "language": "python",
   "name": "python2"
  },
  "language_info": {
   "codemirror_mode": {
    "name": "ipython",
    "version": 2
   },
   "file_extension": ".py",
   "mimetype": "text/x-python",
   "name": "python",
   "nbconvert_exporter": "python",
   "pygments_lexer": "ipython2",
   "version": "2.7.6"
  }
 },
 "nbformat": 4,
 "nbformat_minor": 0
}
